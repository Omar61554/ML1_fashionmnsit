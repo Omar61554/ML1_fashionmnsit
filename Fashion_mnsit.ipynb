{
  "nbformat": 4,
  "nbformat_minor": 0,
  "metadata": {
    "colab": {
      "provenance": [],
      "toc_visible": true,
      "authorship_tag": "ABX9TyO1QiY9sSobmkDS0i/6lnkq",
      "include_colab_link": true
    },
    "kernelspec": {
      "name": "python3",
      "display_name": "Python 3"
    },
    "language_info": {
      "name": "python"
    }
  },
  "cells": [
    {
      "cell_type": "markdown",
      "metadata": {
        "id": "view-in-github",
        "colab_type": "text"
      },
      "source": [
        "<a href=\"https://colab.research.google.com/github/Omar61554/ML1_fashionmnsit/blob/main/Fashion_mnsit.ipynb\" target=\"_parent\"><img src=\"https://colab.research.google.com/assets/colab-badge.svg\" alt=\"Open In Colab\"/></a>"
      ]
    },
    {
      "cell_type": "markdown",
      "source": [
        "# Data"
      ],
      "metadata": {
        "id": "27sJNSWRdQHK"
      }
    },
    {
      "cell_type": "code",
      "execution_count": 22,
      "metadata": {
        "id": "MulWiSO4XF2G"
      },
      "outputs": [],
      "source": [
        "import tensorflow as tf\n",
        "\n",
        "image_data=tf.keras.datasets.fashion_mnist"
      ]
    },
    {
      "cell_type": "markdown",
      "source": [
        "divide data"
      ],
      "metadata": {
        "id": "YEUvoRH4dlJr"
      }
    },
    {
      "cell_type": "code",
      "source": [
        "(train_images, train_labels), (test_images, test_labels) = image_data.load_data()\n",
        "\n",
        "train_images = train_images / 255.0\n",
        "test_images = test_images / 255.0 #remapping for effective reprocessing\n"
      ],
      "metadata": {
        "id": "DqyaiIU8dkVN"
      },
      "execution_count": 23,
      "outputs": []
    },
    {
      "cell_type": "markdown",
      "source": [
        "# Model"
      ],
      "metadata": {
        "id": "cQ2YiFG_eyFx"
      }
    },
    {
      "cell_type": "code",
      "source": [
        "from keras.layers.serialization import activation\n",
        "  #Feedforward neural network\n",
        "model = tf.keras.Sequential([\n",
        "                     #for easy analysis put data in one row\n",
        "                    tf.keras.layers.Flatten(input_shape=(28,28)),\n",
        "                     #128 neurons= NO. of recommended equations the more EQ. maybe the more accurate but for sure slower,relu decide the output\n",
        "                    tf.keras.layers.Dense(128, activation=\"relu\"),\n",
        "                     #10 NO. of outputs\n",
        "                    tf.keras.layers.Dense(10)\n",
        "])\n",
        "#feedback\n",
        " # tells the losses value to optimize it,if the 10 neurons had an activation it may be false especially for soft max\n",
        "model.compile(optimizer=\"adam\",\n",
        "              loss=tf.keras.losses.SparseCategoricalCrossentropy(from_logits=True),\n",
        "             #to determine how good the netwrok is doing\n",
        "               metrics=[\"accuracy\"]\n",
        "              )\n",
        "#training the model\n",
        "model.fit(train_images,train_labels,epochs=10)# epochs ==repeat training for n times"
      ],
      "metadata": {
        "colab": {
          "base_uri": "https://localhost:8080/"
        },
        "id": "1yfE7JBfe3gl",
        "outputId": "f94a0f9a-5b8c-4b31-bd6c-f423006329fc"
      },
      "execution_count": 24,
      "outputs": [
        {
          "output_type": "stream",
          "name": "stdout",
          "text": [
            "Epoch 1/10\n",
            "1875/1875 [==============================] - 8s 4ms/step - loss: 0.5008 - accuracy: 0.8245\n",
            "Epoch 2/10\n",
            "1875/1875 [==============================] - 6s 3ms/step - loss: 0.3776 - accuracy: 0.8626\n",
            "Epoch 3/10\n",
            "1875/1875 [==============================] - 7s 4ms/step - loss: 0.3388 - accuracy: 0.8759\n",
            "Epoch 4/10\n",
            "1875/1875 [==============================] - 6s 3ms/step - loss: 0.3153 - accuracy: 0.8842\n",
            "Epoch 5/10\n",
            "1875/1875 [==============================] - 7s 4ms/step - loss: 0.2970 - accuracy: 0.8900\n",
            "Epoch 6/10\n",
            "1875/1875 [==============================] - 6s 3ms/step - loss: 0.2824 - accuracy: 0.8953\n",
            "Epoch 7/10\n",
            "1875/1875 [==============================] - 7s 4ms/step - loss: 0.2696 - accuracy: 0.9002\n",
            "Epoch 8/10\n",
            "1875/1875 [==============================] - 6s 3ms/step - loss: 0.2590 - accuracy: 0.9045\n",
            "Epoch 9/10\n",
            "1875/1875 [==============================] - 7s 4ms/step - loss: 0.2494 - accuracy: 0.9068\n",
            "Epoch 10/10\n",
            "1875/1875 [==============================] - 6s 3ms/step - loss: 0.2423 - accuracy: 0.9097\n"
          ]
        },
        {
          "output_type": "execute_result",
          "data": {
            "text/plain": [
              "<keras.callbacks.History at 0x7b39e6d18a00>"
            ]
          },
          "metadata": {},
          "execution_count": 24
        }
      ]
    },
    {
      "cell_type": "markdown",
      "source": [
        "# Testing"
      ],
      "metadata": {
        "id": "zDXZJVq7oxdE"
      }
    },
    {
      "cell_type": "code",
      "source": [
        "model.predict(test_images)[0]#gives propability of section\n",
        "test_labels[0]#9 ankel boot"
      ],
      "metadata": {
        "colab": {
          "base_uri": "https://localhost:8080/"
        },
        "id": "xiX6oGtjo0K4",
        "outputId": "b63f0f88-8666-47c3-8ae9-07c27b492aa8"
      },
      "execution_count": 27,
      "outputs": [
        {
          "output_type": "stream",
          "name": "stdout",
          "text": [
            "313/313 [==============================] - 1s 3ms/step\n"
          ]
        },
        {
          "output_type": "execute_result",
          "data": {
            "text/plain": [
              "9"
            ]
          },
          "metadata": {},
          "execution_count": 27
        }
      ]
    }
  ]
}